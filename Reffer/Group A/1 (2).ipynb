{
 "cells": [
  {
   "cell_type": "code",
   "execution_count": 95,
   "id": "9b960377",
   "metadata": {},
   "outputs": [],
   "source": [
    "#Importing pandas and numpy library\n",
    "import pandas as pd\n",
    "import numpy as np    \n",
    "import matplotlib.pyplot as plt  \n",
    "import seaborn as sns "
   ]
  },
  {
   "cell_type": "code",
   "execution_count": 96,
   "id": "042084b1",
   "metadata": {},
   "outputs": [],
   "source": [
    "data = [[34, 39, 72, 7, 49, 79],[12, 35, 45, 6, None, 89],[43, 45, 79, 10, 37, None],[29, 21, None, -4, 41, 75],\n",
    "       [93, -39, 75, 5, 45, 91], [68, None, 66, 9, 34, '?'], [24, 46, None, 7, 43, 61], [12, 38, 56, 5, 41, 86], [58, 49, 71, None, 37, 140]\n",
    "       , [71, 40, 122, -4, None, 99], [9, 34, 72, 7, 46, 94]]"
   ]
  },
  {
   "cell_type": "code",
   "execution_count": 97,
   "id": "947e9ac0",
   "metadata": {},
   "outputs": [],
   "source": [
    "df = pd.DataFrame(data, columns = ['Roll No', 'DBMS(50)', 'CNS(80)', 'EM-3 Tut(10)', 'SPOS(50)', 'AI(100)'])"
   ]
  },
  {
   "cell_type": "code",
   "execution_count": 98,
   "id": "fb3f4620",
   "metadata": {},
   "outputs": [
    {
     "data": {
      "text/html": [
       "<div>\n",
       "<style scoped>\n",
       "    .dataframe tbody tr th:only-of-type {\n",
       "        vertical-align: middle;\n",
       "    }\n",
       "\n",
       "    .dataframe tbody tr th {\n",
       "        vertical-align: top;\n",
       "    }\n",
       "\n",
       "    .dataframe thead th {\n",
       "        text-align: right;\n",
       "    }\n",
       "</style>\n",
       "<table border=\"1\" class=\"dataframe\">\n",
       "  <thead>\n",
       "    <tr style=\"text-align: right;\">\n",
       "      <th></th>\n",
       "      <th>Roll No</th>\n",
       "      <th>DBMS(50)</th>\n",
       "      <th>CNS(80)</th>\n",
       "      <th>EM-3 Tut(10)</th>\n",
       "      <th>SPOS(50)</th>\n",
       "      <th>AI(100)</th>\n",
       "    </tr>\n",
       "  </thead>\n",
       "  <tbody>\n",
       "    <tr>\n",
       "      <th>0</th>\n",
       "      <td>34</td>\n",
       "      <td>39.0</td>\n",
       "      <td>72.0</td>\n",
       "      <td>7.0</td>\n",
       "      <td>49.0</td>\n",
       "      <td>79</td>\n",
       "    </tr>\n",
       "    <tr>\n",
       "      <th>1</th>\n",
       "      <td>12</td>\n",
       "      <td>35.0</td>\n",
       "      <td>45.0</td>\n",
       "      <td>6.0</td>\n",
       "      <td>NaN</td>\n",
       "      <td>89</td>\n",
       "    </tr>\n",
       "    <tr>\n",
       "      <th>2</th>\n",
       "      <td>43</td>\n",
       "      <td>45.0</td>\n",
       "      <td>79.0</td>\n",
       "      <td>10.0</td>\n",
       "      <td>37.0</td>\n",
       "      <td>None</td>\n",
       "    </tr>\n",
       "    <tr>\n",
       "      <th>3</th>\n",
       "      <td>29</td>\n",
       "      <td>21.0</td>\n",
       "      <td>NaN</td>\n",
       "      <td>-4.0</td>\n",
       "      <td>41.0</td>\n",
       "      <td>75</td>\n",
       "    </tr>\n",
       "    <tr>\n",
       "      <th>4</th>\n",
       "      <td>93</td>\n",
       "      <td>-39.0</td>\n",
       "      <td>75.0</td>\n",
       "      <td>5.0</td>\n",
       "      <td>45.0</td>\n",
       "      <td>91</td>\n",
       "    </tr>\n",
       "  </tbody>\n",
       "</table>\n",
       "</div>"
      ],
      "text/plain": [
       "   Roll No  DBMS(50)  CNS(80)  EM-3 Tut(10)  SPOS(50) AI(100)\n",
       "0       34      39.0     72.0           7.0      49.0      79\n",
       "1       12      35.0     45.0           6.0       NaN      89\n",
       "2       43      45.0     79.0          10.0      37.0    None\n",
       "3       29      21.0      NaN          -4.0      41.0      75\n",
       "4       93     -39.0     75.0           5.0      45.0      91"
      ]
     },
     "execution_count": 98,
     "metadata": {},
     "output_type": "execute_result"
    }
   ],
   "source": [
    "df.head()"
   ]
  },
  {
   "cell_type": "code",
   "execution_count": 99,
   "id": "516e9745",
   "metadata": {},
   "outputs": [
    {
     "data": {
      "text/html": [
       "<div>\n",
       "<style scoped>\n",
       "    .dataframe tbody tr th:only-of-type {\n",
       "        vertical-align: middle;\n",
       "    }\n",
       "\n",
       "    .dataframe tbody tr th {\n",
       "        vertical-align: top;\n",
       "    }\n",
       "\n",
       "    .dataframe thead th {\n",
       "        text-align: right;\n",
       "    }\n",
       "</style>\n",
       "<table border=\"1\" class=\"dataframe\">\n",
       "  <thead>\n",
       "    <tr style=\"text-align: right;\">\n",
       "      <th></th>\n",
       "      <th>Roll No</th>\n",
       "      <th>DBMS(50)</th>\n",
       "      <th>CNS(80)</th>\n",
       "      <th>EM-3 Tut(10)</th>\n",
       "      <th>SPOS(50)</th>\n",
       "    </tr>\n",
       "  </thead>\n",
       "  <tbody>\n",
       "    <tr>\n",
       "      <th>count</th>\n",
       "      <td>11.000000</td>\n",
       "      <td>10.000000</td>\n",
       "      <td>9.000000</td>\n",
       "      <td>10.000000</td>\n",
       "      <td>9.000000</td>\n",
       "    </tr>\n",
       "    <tr>\n",
       "      <th>mean</th>\n",
       "      <td>41.181818</td>\n",
       "      <td>30.800000</td>\n",
       "      <td>73.111111</td>\n",
       "      <td>4.800000</td>\n",
       "      <td>41.444444</td>\n",
       "    </tr>\n",
       "    <tr>\n",
       "      <th>std</th>\n",
       "      <td>27.952882</td>\n",
       "      <td>25.741449</td>\n",
       "      <td>21.121343</td>\n",
       "      <td>4.894441</td>\n",
       "      <td>4.850544</td>\n",
       "    </tr>\n",
       "    <tr>\n",
       "      <th>min</th>\n",
       "      <td>9.000000</td>\n",
       "      <td>-39.000000</td>\n",
       "      <td>45.000000</td>\n",
       "      <td>-4.000000</td>\n",
       "      <td>34.000000</td>\n",
       "    </tr>\n",
       "    <tr>\n",
       "      <th>25%</th>\n",
       "      <td>18.000000</td>\n",
       "      <td>34.250000</td>\n",
       "      <td>66.000000</td>\n",
       "      <td>5.000000</td>\n",
       "      <td>37.000000</td>\n",
       "    </tr>\n",
       "    <tr>\n",
       "      <th>50%</th>\n",
       "      <td>34.000000</td>\n",
       "      <td>38.500000</td>\n",
       "      <td>72.000000</td>\n",
       "      <td>6.500000</td>\n",
       "      <td>41.000000</td>\n",
       "    </tr>\n",
       "    <tr>\n",
       "      <th>75%</th>\n",
       "      <td>63.000000</td>\n",
       "      <td>43.750000</td>\n",
       "      <td>75.000000</td>\n",
       "      <td>7.000000</td>\n",
       "      <td>45.000000</td>\n",
       "    </tr>\n",
       "    <tr>\n",
       "      <th>max</th>\n",
       "      <td>93.000000</td>\n",
       "      <td>49.000000</td>\n",
       "      <td>122.000000</td>\n",
       "      <td>10.000000</td>\n",
       "      <td>49.000000</td>\n",
       "    </tr>\n",
       "  </tbody>\n",
       "</table>\n",
       "</div>"
      ],
      "text/plain": [
       "         Roll No   DBMS(50)     CNS(80)  EM-3 Tut(10)   SPOS(50)\n",
       "count  11.000000  10.000000    9.000000     10.000000   9.000000\n",
       "mean   41.181818  30.800000   73.111111      4.800000  41.444444\n",
       "std    27.952882  25.741449   21.121343      4.894441   4.850544\n",
       "min     9.000000 -39.000000   45.000000     -4.000000  34.000000\n",
       "25%    18.000000  34.250000   66.000000      5.000000  37.000000\n",
       "50%    34.000000  38.500000   72.000000      6.500000  41.000000\n",
       "75%    63.000000  43.750000   75.000000      7.000000  45.000000\n",
       "max    93.000000  49.000000  122.000000     10.000000  49.000000"
      ]
     },
     "execution_count": 99,
     "metadata": {},
     "output_type": "execute_result"
    }
   ],
   "source": [
    "df.describe()"
   ]
  },
  {
   "cell_type": "code",
   "execution_count": 100,
   "id": "14234468",
   "metadata": {},
   "outputs": [
    {
     "data": {
      "text/plain": [
       "(11, 6)"
      ]
     },
     "execution_count": 100,
     "metadata": {},
     "output_type": "execute_result"
    }
   ],
   "source": [
    "df.shape"
   ]
  },
  {
   "cell_type": "code",
   "execution_count": 101,
   "id": "e3f5c8d7",
   "metadata": {},
   "outputs": [
    {
     "data": {
      "text/plain": [
       "Roll No           int64\n",
       "DBMS(50)        float64\n",
       "CNS(80)         float64\n",
       "EM-3 Tut(10)    float64\n",
       "SPOS(50)        float64\n",
       "AI(100)          object\n",
       "dtype: object"
      ]
     },
     "execution_count": 101,
     "metadata": {},
     "output_type": "execute_result"
    }
   ],
   "source": [
    "df.dtypes "
   ]
  },
  {
   "cell_type": "code",
   "execution_count": 102,
   "id": "7e6073a5",
   "metadata": {},
   "outputs": [
    {
     "data": {
      "text/plain": [
       "Roll No         0\n",
       "DBMS(50)        1\n",
       "CNS(80)         2\n",
       "EM-3 Tut(10)    1\n",
       "SPOS(50)        2\n",
       "AI(100)         1\n",
       "dtype: int64"
      ]
     },
     "execution_count": 102,
     "metadata": {},
     "output_type": "execute_result"
    }
   ],
   "source": [
    "df.isnull().sum() "
   ]
  },
  {
   "cell_type": "code",
   "execution_count": 103,
   "id": "77299e5c",
   "metadata": {},
   "outputs": [],
   "source": [
    "df.replace('?', np.nan, inplace = True) "
   ]
  },
  {
   "cell_type": "code",
   "execution_count": 104,
   "id": "9ef0890d",
   "metadata": {},
   "outputs": [
    {
     "data": {
      "text/plain": [
       "Roll No         0\n",
       "DBMS(50)        1\n",
       "CNS(80)         2\n",
       "EM-3 Tut(10)    1\n",
       "SPOS(50)        2\n",
       "AI(100)         2\n",
       "dtype: int64"
      ]
     },
     "execution_count": 104,
     "metadata": {},
     "output_type": "execute_result"
    }
   ],
   "source": [
    "df.isnull().sum() "
   ]
  },
  {
   "cell_type": "code",
   "execution_count": 105,
   "id": "8cbdaaed",
   "metadata": {},
   "outputs": [
    {
     "data": {
      "text/plain": [
       "array([ 7.,  6., 10., -4.,  5.,  9., nan])"
      ]
     },
     "execution_count": 105,
     "metadata": {},
     "output_type": "execute_result"
    }
   ],
   "source": [
    "df['EM-3 Tut(10)'].unique()"
   ]
  },
  {
   "cell_type": "code",
   "execution_count": 106,
   "id": "c39e8114",
   "metadata": {},
   "outputs": [],
   "source": [
    "df['DBMS(50)'].fillna(df['DBMS(50)'].median(), inplace = True)\n",
    "df['CNS(80)'].fillna(df['CNS(80)'].median(), inplace = True)\n",
    "df['EM-3 Tut(10)'].fillna(df['EM-3 Tut(10)'].median(), inplace = True)\n",
    "df['SPOS(50)'].fillna(df['SPOS(50)'].median(), inplace = True)\n",
    "df['AI(100)'].fillna(df['AI(100)'].median(), inplace = True)  "
   ]
  },
  {
   "cell_type": "code",
   "execution_count": 107,
   "id": "4a0b8e1a",
   "metadata": {},
   "outputs": [
    {
     "data": {
      "text/html": [
       "<div>\n",
       "<style scoped>\n",
       "    .dataframe tbody tr th:only-of-type {\n",
       "        vertical-align: middle;\n",
       "    }\n",
       "\n",
       "    .dataframe tbody tr th {\n",
       "        vertical-align: top;\n",
       "    }\n",
       "\n",
       "    .dataframe thead th {\n",
       "        text-align: right;\n",
       "    }\n",
       "</style>\n",
       "<table border=\"1\" class=\"dataframe\">\n",
       "  <thead>\n",
       "    <tr style=\"text-align: right;\">\n",
       "      <th></th>\n",
       "      <th>Roll No</th>\n",
       "      <th>DBMS(50)</th>\n",
       "      <th>CNS(80)</th>\n",
       "      <th>EM-3 Tut(10)</th>\n",
       "      <th>SPOS(50)</th>\n",
       "      <th>AI(100)</th>\n",
       "    </tr>\n",
       "  </thead>\n",
       "  <tbody>\n",
       "    <tr>\n",
       "      <th>0</th>\n",
       "      <td>34</td>\n",
       "      <td>39.0</td>\n",
       "      <td>72.0</td>\n",
       "      <td>7.0</td>\n",
       "      <td>49.0</td>\n",
       "      <td>79.0</td>\n",
       "    </tr>\n",
       "    <tr>\n",
       "      <th>1</th>\n",
       "      <td>12</td>\n",
       "      <td>35.0</td>\n",
       "      <td>45.0</td>\n",
       "      <td>6.0</td>\n",
       "      <td>41.0</td>\n",
       "      <td>89.0</td>\n",
       "    </tr>\n",
       "    <tr>\n",
       "      <th>2</th>\n",
       "      <td>43</td>\n",
       "      <td>45.0</td>\n",
       "      <td>79.0</td>\n",
       "      <td>10.0</td>\n",
       "      <td>37.0</td>\n",
       "      <td>89.0</td>\n",
       "    </tr>\n",
       "    <tr>\n",
       "      <th>3</th>\n",
       "      <td>29</td>\n",
       "      <td>21.0</td>\n",
       "      <td>72.0</td>\n",
       "      <td>-4.0</td>\n",
       "      <td>41.0</td>\n",
       "      <td>75.0</td>\n",
       "    </tr>\n",
       "    <tr>\n",
       "      <th>4</th>\n",
       "      <td>93</td>\n",
       "      <td>-39.0</td>\n",
       "      <td>75.0</td>\n",
       "      <td>5.0</td>\n",
       "      <td>45.0</td>\n",
       "      <td>91.0</td>\n",
       "    </tr>\n",
       "    <tr>\n",
       "      <th>5</th>\n",
       "      <td>68</td>\n",
       "      <td>38.5</td>\n",
       "      <td>66.0</td>\n",
       "      <td>9.0</td>\n",
       "      <td>34.0</td>\n",
       "      <td>89.0</td>\n",
       "    </tr>\n",
       "    <tr>\n",
       "      <th>6</th>\n",
       "      <td>24</td>\n",
       "      <td>46.0</td>\n",
       "      <td>72.0</td>\n",
       "      <td>7.0</td>\n",
       "      <td>43.0</td>\n",
       "      <td>61.0</td>\n",
       "    </tr>\n",
       "    <tr>\n",
       "      <th>7</th>\n",
       "      <td>12</td>\n",
       "      <td>38.0</td>\n",
       "      <td>56.0</td>\n",
       "      <td>5.0</td>\n",
       "      <td>41.0</td>\n",
       "      <td>86.0</td>\n",
       "    </tr>\n",
       "    <tr>\n",
       "      <th>8</th>\n",
       "      <td>58</td>\n",
       "      <td>49.0</td>\n",
       "      <td>71.0</td>\n",
       "      <td>6.5</td>\n",
       "      <td>37.0</td>\n",
       "      <td>140.0</td>\n",
       "    </tr>\n",
       "    <tr>\n",
       "      <th>9</th>\n",
       "      <td>71</td>\n",
       "      <td>40.0</td>\n",
       "      <td>122.0</td>\n",
       "      <td>-4.0</td>\n",
       "      <td>41.0</td>\n",
       "      <td>99.0</td>\n",
       "    </tr>\n",
       "    <tr>\n",
       "      <th>10</th>\n",
       "      <td>9</td>\n",
       "      <td>34.0</td>\n",
       "      <td>72.0</td>\n",
       "      <td>7.0</td>\n",
       "      <td>46.0</td>\n",
       "      <td>94.0</td>\n",
       "    </tr>\n",
       "  </tbody>\n",
       "</table>\n",
       "</div>"
      ],
      "text/plain": [
       "    Roll No  DBMS(50)  CNS(80)  EM-3 Tut(10)  SPOS(50)  AI(100)\n",
       "0        34      39.0     72.0           7.0      49.0     79.0\n",
       "1        12      35.0     45.0           6.0      41.0     89.0\n",
       "2        43      45.0     79.0          10.0      37.0     89.0\n",
       "3        29      21.0     72.0          -4.0      41.0     75.0\n",
       "4        93     -39.0     75.0           5.0      45.0     91.0\n",
       "5        68      38.5     66.0           9.0      34.0     89.0\n",
       "6        24      46.0     72.0           7.0      43.0     61.0\n",
       "7        12      38.0     56.0           5.0      41.0     86.0\n",
       "8        58      49.0     71.0           6.5      37.0    140.0\n",
       "9        71      40.0    122.0          -4.0      41.0     99.0\n",
       "10        9      34.0     72.0           7.0      46.0     94.0"
      ]
     },
     "execution_count": 107,
     "metadata": {},
     "output_type": "execute_result"
    }
   ],
   "source": [
    "df"
   ]
  },
  {
   "cell_type": "code",
   "execution_count": 108,
   "id": "c3c69de0",
   "metadata": {},
   "outputs": [
    {
     "data": {
      "text/plain": [
       "Roll No         0\n",
       "DBMS(50)        0\n",
       "CNS(80)         0\n",
       "EM-3 Tut(10)    0\n",
       "SPOS(50)        0\n",
       "AI(100)         0\n",
       "dtype: int64"
      ]
     },
     "execution_count": 108,
     "metadata": {},
     "output_type": "execute_result"
    }
   ],
   "source": [
    "df.isnull().sum()"
   ]
  },
  {
   "cell_type": "code",
   "execution_count": 109,
   "id": "7a7c3c90",
   "metadata": {},
   "outputs": [
    {
     "data": {
      "image/png": "[encoded data removed]",
      "text/plain": [
       "<Figure size 432x288 with 1 Axes>"
      ]
     },
     "metadata": {
      "needs_background": "light"
     },
     "output_type": "display_data"
    }
   ],
   "source": [
    "sns.kdeplot(df['AI(100)'], color='black', label = 'AI', shade=True)\n",
    "sns.kdeplot(df['DBMS(50)'], color='blue', label = 'DBMS', shade=True)\n",
    "sns.kdeplot(df['EM-3 Tut(10)'], color='orange', label = 'EM-3 TUT', shade=True)\n",
    "sns.kdeplot(df['CNS(80)'], color='red', label = 'CNS', shade=True)\n",
    "sns.kdeplot(df['SPOS(50)'], color='green', label = 'SPOS', shade=True)\n",
    "plt.xlabel(\"Subjects\")\n",
    "plt.legend()\n",
    "plt.show()"
   ]
  },
  {
   "cell_type": "code",
   "execution_count": 110,
   "id": "d23a46ac",
   "metadata": {},
   "outputs": [
    {
     "name": "stdout",
     "output_type": "stream",
     "text": [
      "outlier in dataset is [21.0, -39.0]\n",
      "outlier in dataset is [45.0, 56.0, 122.0]\n",
      "outlier in dataset is [-4.0]\n",
      "outlier in dataset is [49.0, 34.0, 46.0]\n",
      "outlier in dataset is [61.0, 140.0]\n"
     ]
    }
   ],
   "source": [
    "meanColumn = np.mean(df[\"DBMS(50)\"])\n",
    "stdColumn = np.std(df[\"DBMS(50)\"])\n",
    "threshold = -0.2\n",
    "threshold2 = 1.5\n",
    "outlier = []\n",
    "\n",
    "for j in df['DBMS(50)']:\n",
    " z = (j-meanColumn)/stdColumn\n",
    " if z>threshold2 or z<threshold:\n",
    "     outlier.append(j)\n",
    "     df[\"DBMS(50)\"].replace(j, np.nan, inplace = True)\n",
    "print('outlier in dataset is', outlier)\n",
    "\n",
    "meanColumn = np.mean(df[\"CNS(80)\"])\n",
    "stdColumn = np.std(df[\"CNS(80)\"])\n",
    "threshold = -0.4\n",
    "threshold2 = 1.5\n",
    "outlier = []\n",
    "\n",
    "for j in df['CNS(80)']:\n",
    " z = (j-meanColumn)/stdColumn\n",
    " if z>threshold2 or z<threshold:\n",
    "     outlier.append(j)\n",
    "     df[\"CNS(80)\"].replace(j, np.nan, inplace = True)\n",
    "print('outlier in dataset is', outlier)\n",
    "\n",
    "\n",
    "meanColumn = np.mean(df[\"EM-3 Tut(10)\"])\n",
    "stdColumn = np.std(df[\"EM-3 Tut(10)\"])\n",
    "threshold = -0.7\n",
    "threshold2 = 1.5\n",
    "outlier = []\n",
    "\n",
    "for j in df['EM-3 Tut(10)']:\n",
    " z = (j-meanColumn)/stdColumn\n",
    " if z>threshold2 or z<threshold:\n",
    "     outlier.append(j)\n",
    "     df[\"EM-3 Tut(10)\"].replace(j, np.nan, inplace = True)\n",
    "print('outlier in dataset is', outlier)\n",
    "\n",
    "meanColumn = np.mean(df[\"SPOS(50)\"])\n",
    "stdColumn = np.std(df[\"SPOS(50)\"])\n",
    "threshold = -1.5\n",
    "threshold2 = 1.0\n",
    "outlier = []\n",
    "\n",
    "for j in df['SPOS(50)']:\n",
    " z = (j-meanColumn)/stdColumn\n",
    " if z>threshold2 or z<threshold:\n",
    "     outlier.append(j)\n",
    "     df[\"SPOS(50)\"].replace(j, np.nan, inplace = True)\n",
    "print('outlier in dataset is', outlier)\n",
    "\n",
    "meanColumn = np.mean(df[\"AI(100)\"])\n",
    "stdColumn = np.std(df[\"AI(100)\"])\n",
    "threshold = -1\n",
    "threshold2 = 0.6\n",
    "outlier = []\n",
    "\n",
    "for j in df['AI(100)']:\n",
    " z = (j-meanColumn)/stdColumn\n",
    " if z>threshold2 or z<threshold:\n",
    "     outlier.append(j)\n",
    "     df[\"AI(100)\"].replace(j, np.nan, inplace = True)\n",
    "print('outlier in dataset is', outlier)"
   ]
  },
  {
   "cell_type": "code",
   "execution_count": 111,
   "id": "45963c00",
   "metadata": {},
   "outputs": [
    {
     "name": "stdout",
     "output_type": "stream",
     "text": [
      "   Roll No  DBMS(50)  CNS(80)  EM-3 Tut(10)  SPOS(50)  AI(100)\n",
      "0       34      39.0     72.0           7.0       NaN     79.0\n",
      "1       12      35.0      NaN           6.0      41.0     89.0\n",
      "2       43      45.0     79.0          10.0      37.0     89.0\n",
      "3       29       NaN     72.0           NaN      41.0     75.0\n",
      "4       93       NaN     75.0           5.0      45.0     91.0\n"
     ]
    }
   ],
   "source": [
    "print(df.head())"
   ]
  },
  {
   "cell_type": "code",
   "execution_count": 112,
   "id": "27fb4a8a",
   "metadata": {},
   "outputs": [],
   "source": [
    "df['DBMS(50)'].fillna(df['DBMS(50)'].median(), inplace = True)\n",
    "df['CNS(80)'].fillna(df['CNS(80)'].median(), inplace = True)\n",
    "df['EM-3 Tut(10)'].fillna(df['EM-3 Tut(10)'].median(), inplace = True)\n",
    "df['SPOS(50)'].fillna(df['SPOS(50)'].median(), inplace = True)\n",
    "df['AI(100)'].fillna(df['AI(100)'].median(), inplace = True)  "
   ]
  },
  {
   "cell_type": "code",
   "execution_count": 113,
   "id": "00958173",
   "metadata": {},
   "outputs": [
    {
     "data": {
      "text/html": [
       "<div>\n",
       "<style scoped>\n",
       "    .dataframe tbody tr th:only-of-type {\n",
       "        vertical-align: middle;\n",
       "    }\n",
       "\n",
       "    .dataframe tbody tr th {\n",
       "        vertical-align: top;\n",
       "    }\n",
       "\n",
       "    .dataframe thead th {\n",
       "        text-align: right;\n",
       "    }\n",
       "</style>\n",
       "<table border=\"1\" class=\"dataframe\">\n",
       "  <thead>\n",
       "    <tr style=\"text-align: right;\">\n",
       "      <th></th>\n",
       "      <th>Roll No</th>\n",
       "      <th>DBMS(50)</th>\n",
       "      <th>CNS(80)</th>\n",
       "      <th>EM-3 Tut(10)</th>\n",
       "      <th>SPOS(50)</th>\n",
       "      <th>AI(100)</th>\n",
       "    </tr>\n",
       "  </thead>\n",
       "  <tbody>\n",
       "    <tr>\n",
       "      <th>0</th>\n",
       "      <td>34</td>\n",
       "      <td>39.0</td>\n",
       "      <td>72.0</td>\n",
       "      <td>7.0</td>\n",
       "      <td>41.0</td>\n",
       "      <td>79.0</td>\n",
       "    </tr>\n",
       "    <tr>\n",
       "      <th>1</th>\n",
       "      <td>12</td>\n",
       "      <td>35.0</td>\n",
       "      <td>72.0</td>\n",
       "      <td>6.0</td>\n",
       "      <td>41.0</td>\n",
       "      <td>89.0</td>\n",
       "    </tr>\n",
       "    <tr>\n",
       "      <th>2</th>\n",
       "      <td>43</td>\n",
       "      <td>45.0</td>\n",
       "      <td>79.0</td>\n",
       "      <td>10.0</td>\n",
       "      <td>37.0</td>\n",
       "      <td>89.0</td>\n",
       "    </tr>\n",
       "    <tr>\n",
       "      <th>3</th>\n",
       "      <td>29</td>\n",
       "      <td>39.0</td>\n",
       "      <td>72.0</td>\n",
       "      <td>7.0</td>\n",
       "      <td>41.0</td>\n",
       "      <td>75.0</td>\n",
       "    </tr>\n",
       "    <tr>\n",
       "      <th>4</th>\n",
       "      <td>93</td>\n",
       "      <td>39.0</td>\n",
       "      <td>75.0</td>\n",
       "      <td>5.0</td>\n",
       "      <td>45.0</td>\n",
       "      <td>91.0</td>\n",
       "    </tr>\n",
       "  </tbody>\n",
       "</table>\n",
       "</div>"
      ],
      "text/plain": [
       "   Roll No  DBMS(50)  CNS(80)  EM-3 Tut(10)  SPOS(50)  AI(100)\n",
       "0       34      39.0     72.0           7.0      41.0     79.0\n",
       "1       12      35.0     72.0           6.0      41.0     89.0\n",
       "2       43      45.0     79.0          10.0      37.0     89.0\n",
       "3       29      39.0     72.0           7.0      41.0     75.0\n",
       "4       93      39.0     75.0           5.0      45.0     91.0"
      ]
     },
     "execution_count": 113,
     "metadata": {},
     "output_type": "execute_result"
    }
   ],
   "source": [
    "df.head()"
   ]
  },
  {
   "cell_type": "code",
   "execution_count": 114,
   "id": "61204d8f",
   "metadata": {},
   "outputs": [
    {
     "data": {
      "text/html": [
       "<div>\n",
       "<style scoped>\n",
       "    .dataframe tbody tr th:only-of-type {\n",
       "        vertical-align: middle;\n",
       "    }\n",
       "\n",
       "    .dataframe tbody tr th {\n",
       "        vertical-align: top;\n",
       "    }\n",
       "\n",
       "    .dataframe thead th {\n",
       "        text-align: right;\n",
       "    }\n",
       "</style>\n",
       "<table border=\"1\" class=\"dataframe\">\n",
       "  <thead>\n",
       "    <tr style=\"text-align: right;\">\n",
       "      <th></th>\n",
       "      <th>Roll No</th>\n",
       "      <th>DBMS(50)</th>\n",
       "      <th>CNS(80)</th>\n",
       "      <th>EM-3 Tut(10)</th>\n",
       "      <th>SPOS(50)</th>\n",
       "      <th>AI(100)</th>\n",
       "    </tr>\n",
       "  </thead>\n",
       "  <tbody>\n",
       "    <tr>\n",
       "      <th>0</th>\n",
       "      <td>34</td>\n",
       "      <td>39.0</td>\n",
       "      <td>72.0</td>\n",
       "      <td>7.0</td>\n",
       "      <td>41.0</td>\n",
       "      <td>79.0</td>\n",
       "    </tr>\n",
       "    <tr>\n",
       "      <th>1</th>\n",
       "      <td>12</td>\n",
       "      <td>35.0</td>\n",
       "      <td>72.0</td>\n",
       "      <td>6.0</td>\n",
       "      <td>41.0</td>\n",
       "      <td>89.0</td>\n",
       "    </tr>\n",
       "    <tr>\n",
       "      <th>2</th>\n",
       "      <td>43</td>\n",
       "      <td>45.0</td>\n",
       "      <td>79.0</td>\n",
       "      <td>10.0</td>\n",
       "      <td>37.0</td>\n",
       "      <td>89.0</td>\n",
       "    </tr>\n",
       "    <tr>\n",
       "      <th>3</th>\n",
       "      <td>29</td>\n",
       "      <td>39.0</td>\n",
       "      <td>72.0</td>\n",
       "      <td>7.0</td>\n",
       "      <td>41.0</td>\n",
       "      <td>75.0</td>\n",
       "    </tr>\n",
       "    <tr>\n",
       "      <th>4</th>\n",
       "      <td>93</td>\n",
       "      <td>39.0</td>\n",
       "      <td>75.0</td>\n",
       "      <td>5.0</td>\n",
       "      <td>45.0</td>\n",
       "      <td>91.0</td>\n",
       "    </tr>\n",
       "    <tr>\n",
       "      <th>5</th>\n",
       "      <td>68</td>\n",
       "      <td>38.5</td>\n",
       "      <td>66.0</td>\n",
       "      <td>9.0</td>\n",
       "      <td>41.0</td>\n",
       "      <td>89.0</td>\n",
       "    </tr>\n",
       "    <tr>\n",
       "      <th>6</th>\n",
       "      <td>24</td>\n",
       "      <td>46.0</td>\n",
       "      <td>72.0</td>\n",
       "      <td>7.0</td>\n",
       "      <td>43.0</td>\n",
       "      <td>89.0</td>\n",
       "    </tr>\n",
       "    <tr>\n",
       "      <th>7</th>\n",
       "      <td>12</td>\n",
       "      <td>38.0</td>\n",
       "      <td>72.0</td>\n",
       "      <td>5.0</td>\n",
       "      <td>41.0</td>\n",
       "      <td>86.0</td>\n",
       "    </tr>\n",
       "    <tr>\n",
       "      <th>8</th>\n",
       "      <td>58</td>\n",
       "      <td>49.0</td>\n",
       "      <td>71.0</td>\n",
       "      <td>6.5</td>\n",
       "      <td>37.0</td>\n",
       "      <td>89.0</td>\n",
       "    </tr>\n",
       "    <tr>\n",
       "      <th>9</th>\n",
       "      <td>71</td>\n",
       "      <td>40.0</td>\n",
       "      <td>72.0</td>\n",
       "      <td>7.0</td>\n",
       "      <td>41.0</td>\n",
       "      <td>99.0</td>\n",
       "    </tr>\n",
       "    <tr>\n",
       "      <th>10</th>\n",
       "      <td>9</td>\n",
       "      <td>34.0</td>\n",
       "      <td>72.0</td>\n",
       "      <td>7.0</td>\n",
       "      <td>41.0</td>\n",
       "      <td>94.0</td>\n",
       "    </tr>\n",
       "  </tbody>\n",
       "</table>\n",
       "</div>"
      ],
      "text/plain": [
       "    Roll No  DBMS(50)  CNS(80)  EM-3 Tut(10)  SPOS(50)  AI(100)\n",
       "0        34      39.0     72.0           7.0      41.0     79.0\n",
       "1        12      35.0     72.0           6.0      41.0     89.0\n",
       "2        43      45.0     79.0          10.0      37.0     89.0\n",
       "3        29      39.0     72.0           7.0      41.0     75.0\n",
       "4        93      39.0     75.0           5.0      45.0     91.0\n",
       "5        68      38.5     66.0           9.0      41.0     89.0\n",
       "6        24      46.0     72.0           7.0      43.0     89.0\n",
       "7        12      38.0     72.0           5.0      41.0     86.0\n",
       "8        58      49.0     71.0           6.5      37.0     89.0\n",
       "9        71      40.0     72.0           7.0      41.0     99.0\n",
       "10        9      34.0     72.0           7.0      41.0     94.0"
      ]
     },
     "execution_count": 114,
     "metadata": {},
     "output_type": "execute_result"
    }
   ],
   "source": [
    "df"
   ]
  },
  {
   "cell_type": "code",
   "execution_count": 115,
   "id": "c742209f",
   "metadata": {},
   "outputs": [],
   "source": [
    "from sklearn.preprocessing import MinMaxScaler\n",
    "min_max_scaler = MinMaxScaler()"
   ]
  },
  {
   "cell_type": "code",
   "execution_count": 116,
   "id": "a3e8fa76",
   "metadata": {},
   "outputs": [],
   "source": [
    "df[[\"DBMS(50)\", \"CNS(80)\", \"EM-3 Tut(10)\", \"SPOS(50)\", \"AI(100)\"]] = min_max_scaler.fit_transform(df[[\"DBMS(50)\", \"CNS(80)\", \"EM-3 Tut(10)\", \"SPOS(50)\", \"AI(100)\"]])"
   ]
  },
  {
   "cell_type": "code",
   "execution_count": 117,
   "id": "64510af6",
   "metadata": {},
   "outputs": [
    {
     "data": {
      "text/html": [
       "<div>\n",
       "<style scoped>\n",
       "    .dataframe tbody tr th:only-of-type {\n",
       "        vertical-align: middle;\n",
       "    }\n",
       "\n",
       "    .dataframe tbody tr th {\n",
       "        vertical-align: top;\n",
       "    }\n",
       "\n",
       "    .dataframe thead th {\n",
       "        text-align: right;\n",
       "    }\n",
       "</style>\n",
       "<table border=\"1\" class=\"dataframe\">\n",
       "  <thead>\n",
       "    <tr style=\"text-align: right;\">\n",
       "      <th></th>\n",
       "      <th>Roll No</th>\n",
       "      <th>DBMS(50)</th>\n",
       "      <th>CNS(80)</th>\n",
       "      <th>EM-3 Tut(10)</th>\n",
       "      <th>SPOS(50)</th>\n",
       "      <th>AI(100)</th>\n",
       "    </tr>\n",
       "  </thead>\n",
       "  <tbody>\n",
       "    <tr>\n",
       "      <th>0</th>\n",
       "      <td>34</td>\n",
       "      <td>0.333333</td>\n",
       "      <td>0.461538</td>\n",
       "      <td>0.4</td>\n",
       "      <td>0.50</td>\n",
       "      <td>0.166667</td>\n",
       "    </tr>\n",
       "    <tr>\n",
       "      <th>1</th>\n",
       "      <td>12</td>\n",
       "      <td>0.066667</td>\n",
       "      <td>0.461538</td>\n",
       "      <td>0.2</td>\n",
       "      <td>0.50</td>\n",
       "      <td>0.583333</td>\n",
       "    </tr>\n",
       "    <tr>\n",
       "      <th>2</th>\n",
       "      <td>43</td>\n",
       "      <td>0.733333</td>\n",
       "      <td>1.000000</td>\n",
       "      <td>1.0</td>\n",
       "      <td>0.00</td>\n",
       "      <td>0.583333</td>\n",
       "    </tr>\n",
       "    <tr>\n",
       "      <th>3</th>\n",
       "      <td>29</td>\n",
       "      <td>0.333333</td>\n",
       "      <td>0.461538</td>\n",
       "      <td>0.4</td>\n",
       "      <td>0.50</td>\n",
       "      <td>0.000000</td>\n",
       "    </tr>\n",
       "    <tr>\n",
       "      <th>4</th>\n",
       "      <td>93</td>\n",
       "      <td>0.333333</td>\n",
       "      <td>0.692308</td>\n",
       "      <td>0.0</td>\n",
       "      <td>1.00</td>\n",
       "      <td>0.666667</td>\n",
       "    </tr>\n",
       "    <tr>\n",
       "      <th>5</th>\n",
       "      <td>68</td>\n",
       "      <td>0.300000</td>\n",
       "      <td>0.000000</td>\n",
       "      <td>0.8</td>\n",
       "      <td>0.50</td>\n",
       "      <td>0.583333</td>\n",
       "    </tr>\n",
       "    <tr>\n",
       "      <th>6</th>\n",
       "      <td>24</td>\n",
       "      <td>0.800000</td>\n",
       "      <td>0.461538</td>\n",
       "      <td>0.4</td>\n",
       "      <td>0.75</td>\n",
       "      <td>0.583333</td>\n",
       "    </tr>\n",
       "    <tr>\n",
       "      <th>7</th>\n",
       "      <td>12</td>\n",
       "      <td>0.266667</td>\n",
       "      <td>0.461538</td>\n",
       "      <td>0.0</td>\n",
       "      <td>0.50</td>\n",
       "      <td>0.458333</td>\n",
       "    </tr>\n",
       "    <tr>\n",
       "      <th>8</th>\n",
       "      <td>58</td>\n",
       "      <td>1.000000</td>\n",
       "      <td>0.384615</td>\n",
       "      <td>0.3</td>\n",
       "      <td>0.00</td>\n",
       "      <td>0.583333</td>\n",
       "    </tr>\n",
       "    <tr>\n",
       "      <th>9</th>\n",
       "      <td>71</td>\n",
       "      <td>0.400000</td>\n",
       "      <td>0.461538</td>\n",
       "      <td>0.4</td>\n",
       "      <td>0.50</td>\n",
       "      <td>1.000000</td>\n",
       "    </tr>\n",
       "    <tr>\n",
       "      <th>10</th>\n",
       "      <td>9</td>\n",
       "      <td>0.000000</td>\n",
       "      <td>0.461538</td>\n",
       "      <td>0.4</td>\n",
       "      <td>0.50</td>\n",
       "      <td>0.791667</td>\n",
       "    </tr>\n",
       "  </tbody>\n",
       "</table>\n",
       "</div>"
      ],
      "text/plain": [
       "    Roll No  DBMS(50)   CNS(80)  EM-3 Tut(10)  SPOS(50)   AI(100)\n",
       "0        34  0.333333  0.461538           0.4      0.50  0.166667\n",
       "1        12  0.066667  0.461538           0.2      0.50  0.583333\n",
       "2        43  0.733333  1.000000           1.0      0.00  0.583333\n",
       "3        29  0.333333  0.461538           0.4      0.50  0.000000\n",
       "4        93  0.333333  0.692308           0.0      1.00  0.666667\n",
       "5        68  0.300000  0.000000           0.8      0.50  0.583333\n",
       "6        24  0.800000  0.461538           0.4      0.75  0.583333\n",
       "7        12  0.266667  0.461538           0.0      0.50  0.458333\n",
       "8        58  1.000000  0.384615           0.3      0.00  0.583333\n",
       "9        71  0.400000  0.461538           0.4      0.50  1.000000\n",
       "10        9  0.000000  0.461538           0.4      0.50  0.791667"
      ]
     },
     "execution_count": 117,
     "metadata": {},
     "output_type": "execute_result"
    }
   ],
   "source": [
    "df"
   ]
  },
  {
   "cell_type": "code",
   "execution_count": 118,
   "id": "ccd035b5",
   "metadata": {},
   "outputs": [
    {
     "data": {
      "image/png": "[encoded data removed]",
      "text/plain": [
       "<Figure size 432x288 with 1 Axes>"
      ]
     },
     "metadata": {
      "needs_background": "light"
     },
     "output_type": "display_data"
    }
   ],
   "source": [
    "df['DBMS(50)'].plot.density(color='green')\n",
    "plt.title('Density Plot for DBMS')\n",
    "plt.show()"
   ]
  },
  {
   "cell_type": "code",
   "execution_count": 119,
   "id": "f85ef24b",
   "metadata": {},
   "outputs": [
    {
     "data": {
      "image/png": "[encoded data removed]",
      "text/plain": [
       "<Figure size 432x288 with 1 Axes>"
      ]
     },
     "metadata": {
      "needs_background": "light"
     },
     "output_type": "display_data"
    }
   ],
   "source": [
    "df['CNS(80)'].plot.density(color='green')\n",
    "plt.title('Density Plot for CNS')\n",
    "plt.show()"
   ]
  },
  {
   "cell_type": "code",
   "execution_count": 120,
   "id": "6e785228",
   "metadata": {},
   "outputs": [
    {
     "data": {
      "image/png": "[encoded data removed]",
      "text/plain": [
       "<Figure size 432x288 with 1 Axes>"
      ]
     },
     "metadata": {
      "needs_background": "light"
     },
     "output_type": "display_data"
    }
   ],
   "source": [
    "df['EM-3 Tut(10)'].plot.density(color='green')\n",
    "plt.title('Density Plot for EM-3 Tut')\n",
    "plt.show()"
   ]
  },
  {
   "cell_type": "code",
   "execution_count": 121,
   "id": "1b1f8883",
   "metadata": {},
   "outputs": [
    {
     "data": {
      "image/png": "[encoded data removed]",
      "text/plain": [
       "<Figure size 432x288 with 1 Axes>"
      ]
     },
     "metadata": {
      "needs_background": "light"
     },
     "output_type": "display_data"
    }
   ],
   "source": [
    "df['SPOS(50)'].plot.density(color='green')\n",
    "plt.title('Density Plot for SPOS')\n",
    "plt.show()"
   ]
  },
  {
   "cell_type": "code",
   "execution_count": 122,
   "id": "18d55241",
   "metadata": {},
   "outputs": [
    {
     "data": {
      "image/png": "[encoded data removed]",
      "text/plain": [
       "<Figure size 432x288 with 1 Axes>"
      ]
     },
     "metadata": {
      "needs_background": "light"
     },
     "output_type": "display_data"
    }
   ],
   "source": [
    "df['AI(100)'].plot.density(color='green')\n",
    "plt.title('Density Plot for AI')\n",
    "plt.show()"
   ]
  },
  {
   "cell_type": "code",
   "execution_count": 123,
   "id": "90ab48ce",
   "metadata": {},
   "outputs": [
    {
     "data": {
      "image/png": "[encoded data removed]",
      "text/plain": [
       "<Figure size 432x288 with 1 Axes>"
      ]
     },
     "metadata": {
      "needs_background": "light"
     },
     "output_type": "display_data"
    }
   ],
   "source": [
    "sns.kdeplot(df['AI(100)'], color='black', label = 'AI', shade=True)\n",
    "sns.kdeplot(df['DBMS(50)'], color='blue', label = 'DBMS', shade=True)\n",
    "sns.kdeplot(df['EM-3 Tut(10)'], color='orange', label = 'EM-3 TUT', shade=True)\n",
    "sns.kdeplot(df['CNS(80)'], color='red', label = 'CNS', shade=True)\n",
    "sns.kdeplot(df['SPOS(50)'], color='green', label = 'SPOS', shade=True)\n",
    "plt.xlabel(\"Subjects\")\n",
    "plt.legend()\n",
    "plt.show()"
   ]
  },
  {
   "cell_type": "code",
   "execution_count": 124,
   "id": "74fd5ed5",
   "metadata": {},
   "outputs": [],
   "source": [
    "df['Average'] = df.iloc[:, 1:6].mean(axis=1)*100"
   ]
  },
  {
   "cell_type": "code",
   "execution_count": 125,
   "id": "7982dfe9",
   "metadata": {},
   "outputs": [
    {
     "data": {
      "text/html": [
       "<div>\n",
       "<style scoped>\n",
       "    .dataframe tbody tr th:only-of-type {\n",
       "        vertical-align: middle;\n",
       "    }\n",
       "\n",
       "    .dataframe tbody tr th {\n",
       "        vertical-align: top;\n",
       "    }\n",
       "\n",
       "    .dataframe thead th {\n",
       "        text-align: right;\n",
       "    }\n",
       "</style>\n",
       "<table border=\"1\" class=\"dataframe\">\n",
       "  <thead>\n",
       "    <tr style=\"text-align: right;\">\n",
       "      <th></th>\n",
       "      <th>Roll No</th>\n",
       "      <th>DBMS(50)</th>\n",
       "      <th>CNS(80)</th>\n",
       "      <th>EM-3 Tut(10)</th>\n",
       "      <th>SPOS(50)</th>\n",
       "      <th>AI(100)</th>\n",
       "      <th>Average</th>\n",
       "    </tr>\n",
       "  </thead>\n",
       "  <tbody>\n",
       "    <tr>\n",
       "      <th>0</th>\n",
       "      <td>34</td>\n",
       "      <td>0.333333</td>\n",
       "      <td>0.461538</td>\n",
       "      <td>0.4</td>\n",
       "      <td>0.50</td>\n",
       "      <td>0.166667</td>\n",
       "      <td>37.230769</td>\n",
       "    </tr>\n",
       "    <tr>\n",
       "      <th>1</th>\n",
       "      <td>12</td>\n",
       "      <td>0.066667</td>\n",
       "      <td>0.461538</td>\n",
       "      <td>0.2</td>\n",
       "      <td>0.50</td>\n",
       "      <td>0.583333</td>\n",
       "      <td>36.230769</td>\n",
       "    </tr>\n",
       "    <tr>\n",
       "      <th>2</th>\n",
       "      <td>43</td>\n",
       "      <td>0.733333</td>\n",
       "      <td>1.000000</td>\n",
       "      <td>1.0</td>\n",
       "      <td>0.00</td>\n",
       "      <td>0.583333</td>\n",
       "      <td>66.333333</td>\n",
       "    </tr>\n",
       "    <tr>\n",
       "      <th>3</th>\n",
       "      <td>29</td>\n",
       "      <td>0.333333</td>\n",
       "      <td>0.461538</td>\n",
       "      <td>0.4</td>\n",
       "      <td>0.50</td>\n",
       "      <td>0.000000</td>\n",
       "      <td>33.897436</td>\n",
       "    </tr>\n",
       "    <tr>\n",
       "      <th>4</th>\n",
       "      <td>93</td>\n",
       "      <td>0.333333</td>\n",
       "      <td>0.692308</td>\n",
       "      <td>0.0</td>\n",
       "      <td>1.00</td>\n",
       "      <td>0.666667</td>\n",
       "      <td>53.846154</td>\n",
       "    </tr>\n",
       "    <tr>\n",
       "      <th>5</th>\n",
       "      <td>68</td>\n",
       "      <td>0.300000</td>\n",
       "      <td>0.000000</td>\n",
       "      <td>0.8</td>\n",
       "      <td>0.50</td>\n",
       "      <td>0.583333</td>\n",
       "      <td>43.666667</td>\n",
       "    </tr>\n",
       "    <tr>\n",
       "      <th>6</th>\n",
       "      <td>24</td>\n",
       "      <td>0.800000</td>\n",
       "      <td>0.461538</td>\n",
       "      <td>0.4</td>\n",
       "      <td>0.75</td>\n",
       "      <td>0.583333</td>\n",
       "      <td>59.897436</td>\n",
       "    </tr>\n",
       "    <tr>\n",
       "      <th>7</th>\n",
       "      <td>12</td>\n",
       "      <td>0.266667</td>\n",
       "      <td>0.461538</td>\n",
       "      <td>0.0</td>\n",
       "      <td>0.50</td>\n",
       "      <td>0.458333</td>\n",
       "      <td>33.730769</td>\n",
       "    </tr>\n",
       "    <tr>\n",
       "      <th>8</th>\n",
       "      <td>58</td>\n",
       "      <td>1.000000</td>\n",
       "      <td>0.384615</td>\n",
       "      <td>0.3</td>\n",
       "      <td>0.00</td>\n",
       "      <td>0.583333</td>\n",
       "      <td>45.358974</td>\n",
       "    </tr>\n",
       "    <tr>\n",
       "      <th>9</th>\n",
       "      <td>71</td>\n",
       "      <td>0.400000</td>\n",
       "      <td>0.461538</td>\n",
       "      <td>0.4</td>\n",
       "      <td>0.50</td>\n",
       "      <td>1.000000</td>\n",
       "      <td>55.230769</td>\n",
       "    </tr>\n",
       "    <tr>\n",
       "      <th>10</th>\n",
       "      <td>9</td>\n",
       "      <td>0.000000</td>\n",
       "      <td>0.461538</td>\n",
       "      <td>0.4</td>\n",
       "      <td>0.50</td>\n",
       "      <td>0.791667</td>\n",
       "      <td>43.064103</td>\n",
       "    </tr>\n",
       "  </tbody>\n",
       "</table>\n",
       "</div>"
      ],
      "text/plain": [
       "    Roll No  DBMS(50)   CNS(80)  EM-3 Tut(10)  SPOS(50)   AI(100)    Average\n",
       "0        34  0.333333  0.461538           0.4      0.50  0.166667  37.230769\n",
       "1        12  0.066667  0.461538           0.2      0.50  0.583333  36.230769\n",
       "2        43  0.733333  1.000000           1.0      0.00  0.583333  66.333333\n",
       "3        29  0.333333  0.461538           0.4      0.50  0.000000  33.897436\n",
       "4        93  0.333333  0.692308           0.0      1.00  0.666667  53.846154\n",
       "5        68  0.300000  0.000000           0.8      0.50  0.583333  43.666667\n",
       "6        24  0.800000  0.461538           0.4      0.75  0.583333  59.897436\n",
       "7        12  0.266667  0.461538           0.0      0.50  0.458333  33.730769\n",
       "8        58  1.000000  0.384615           0.3      0.00  0.583333  45.358974\n",
       "9        71  0.400000  0.461538           0.4      0.50  1.000000  55.230769\n",
       "10        9  0.000000  0.461538           0.4      0.50  0.791667  43.064103"
      ]
     },
     "execution_count": 125,
     "metadata": {},
     "output_type": "execute_result"
    }
   ],
   "source": [
    "df"
   ]
  },
  {
   "cell_type": "code",
   "execution_count": null,
   "id": "48f841e4",
   "metadata": {},
   "outputs": [],
   "source": []
  }
 ],
 "metadata": {
  "kernelspec": {
   "display_name": "Python 3",
   "language": "python",
   "name": "python3"
  },
  "language_info": {
   "codemirror_mode": {
    "name": "ipython",
    "version": 3
   },
   "file_extension": ".py",
   "mimetype": "text/x-python",
   "name": "python",
   "nbconvert_exporter": "python",
   "pygments_lexer": "ipython3",
   "version": "3.8.8"
  }
 },
 "nbformat": 4,
 "nbformat_minor": 5
}
